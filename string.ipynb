{
 "cells": [
  {
   "attachments": {},
   "cell_type": "markdown",
   "metadata": {},
   "source": [
    "# string (creating,indexing,slicing,methods_formating,validation methods,utility methods)"
   ]
  },
  {
   "cell_type": "code",
   "execution_count": 53,
   "metadata": {},
   "outputs": [
    {
     "name": "stdout",
     "output_type": "stream",
     "text": [
      "<class 'str'>\n"
     ]
    }
   ],
   "source": [
    "a=\"hello\" #string\n",
    "b=\"sumit\"\n",
    "print(type(a))"
   ]
  },
  {
   "cell_type": "code",
   "execution_count": null,
   "metadata": {},
   "outputs": [],
   "source": [
    "a=\"hello\" #string\n",
    "b=\"sumit\"\n",
    "c='''this is a multiline from the past'''"
   ]
  },
  {
   "cell_type": "code",
   "execution_count": null,
   "metadata": {},
   "outputs": [
    {
     "name": "stdout",
     "output_type": "stream",
     "text": [
      "this is a 'importent' massage\n"
     ]
    }
   ],
   "source": [
    "print(\"this is a \\'importent\\' massage\")"
   ]
  },
  {
   "cell_type": "code",
   "execution_count": null,
   "metadata": {},
   "outputs": [
    {
     "name": "stdout",
     "output_type": "stream",
     "text": [
      "this is a 'importent' \n",
      " massage\n"
     ]
    }
   ],
   "source": [
    "print(\"this is a \\'importent\\' \\n massage\")"
   ]
  },
  {
   "cell_type": "code",
   "execution_count": null,
   "metadata": {},
   "outputs": [
    {
     "name": "stdout",
     "output_type": "stream",
     "text": [
      "this is a 'importent' massage\n"
     ]
    }
   ],
   "source": [
    "print(\"this is a 'importent' massage\")"
   ]
  },
  {
   "cell_type": "code",
   "execution_count": null,
   "metadata": {},
   "outputs": [
    {
     "name": "stdout",
     "output_type": "stream",
     "text": [
      "sumit\n"
     ]
    }
   ],
   "source": [
    "a=input(\"enter a name:\")\n",
    "print(a)\n"
   ]
  },
  {
   "cell_type": "code",
   "execution_count": null,
   "metadata": {},
   "outputs": [
    {
     "name": "stdout",
     "output_type": "stream",
     "text": [
      "985463215\n"
     ]
    }
   ],
   "source": [
    "x=str(985463215)\n",
    "print(x)"
   ]
  },
  {
   "cell_type": "code",
   "execution_count": null,
   "metadata": {},
   "outputs": [
    {
     "data": {
      "text/plain": [
       "'a'"
      ]
     },
     "execution_count": 31,
     "metadata": {},
     "output_type": "execute_result"
    }
   ],
   "source": [
    "'a'."
   ]
  },
  {
   "cell_type": "code",
   "execution_count": 1,
   "metadata": {},
   "outputs": [
    {
     "name": "stdout",
     "output_type": "stream",
     "text": [
      "JOURNEY BEFORE DESTINATION\n",
      "journey before destination\n",
      "Journey Before Destination\n",
      "Journey before destination\n",
      "journey before destination\n",
      "JOURNEY bEFORE dESTINATION\n"
     ]
    }
   ],
   "source": [
    "msg=\"journey Before Destination\"\n",
    "print(msg.upper())\n",
    "print(msg.lower())\n",
    "print(msg.title())\n",
    "print(msg.capitalize())\n",
    "print(msg.casefold())\n",
    "print(msg.swapcase())"
   ]
  },
  {
   "cell_type": "code",
   "execution_count": 5,
   "metadata": {},
   "outputs": [
    {
     "name": "stdout",
     "output_type": "stream",
     "text": [
      "journey Before Destination                                                                                                 \n",
      "                                                journey Before Destination                                                 \n"
     ]
    }
   ],
   "source": [
    "print(f\"{msg:123}\")\n",
    "print(f\"{msg:^123}\")"
   ]
  },
  {
   "cell_type": "code",
   "execution_count": 27,
   "metadata": {},
   "outputs": [
    {
     "name": "stdout",
     "output_type": "stream",
     "text": [
      "                                     journey Before Destination                                     \n",
      "journey Before Destination                                                                          \n",
      "                                                                          journey Before Destination\n"
     ]
    }
   ],
   "source": [
    "print(msg.center(100)) \n",
    "print(msg.ljust(100))\n",
    "print(msg.rjust(100))"
   ]
  },
  {
   "cell_type": "code",
   "execution_count": 29,
   "metadata": {},
   "outputs": [
    {
     "name": "stdout",
     "output_type": "stream",
     "text": [
      "*************************************journey Before Destination*************************************\n",
      "journey Before Destination                                                                          \n",
      "                                                                          journey Before Destination\n"
     ]
    }
   ],
   "source": [
    "print(msg.center(100, '*')) \n",
    "print(msg.ljust(100))\n",
    "print(msg.rjust(100))"
   ]
  },
  {
   "cell_type": "code",
   "execution_count": 6,
   "metadata": {},
   "outputs": [
    {
     "name": "stdout",
     "output_type": "stream",
     "text": [
      "0\n",
      "1\n",
      "4\n",
      "9\n",
      "16\n",
      "25\n",
      "36\n",
      "49\n",
      "64\n",
      "81\n"
     ]
    }
   ],
   "source": [
    "for i in range(10):\n",
    "    print(i**2)"
   ]
  },
  {
   "cell_type": "code",
   "execution_count": 7,
   "metadata": {},
   "outputs": [
    {
     "name": "stdout",
     "output_type": "stream",
     "text": [
      "1\n",
      "4\n",
      "9\n",
      "16\n",
      "25\n",
      "36\n",
      "49\n",
      "64\n",
      "81\n",
      "100\n",
      "121\n",
      "144\n",
      "169\n",
      "196\n",
      "225\n",
      "256\n",
      "289\n",
      "324\n",
      "361\n",
      "400\n"
     ]
    }
   ],
   "source": [
    "for i in range(1,21):\n",
    "    print(i**2)"
   ]
  },
  {
   "cell_type": "code",
   "execution_count": 12,
   "metadata": {},
   "outputs": [
    {
     "name": "stdout",
     "output_type": "stream",
     "text": [
      "num power result\n",
      "1^2 = 1\n",
      "2^2 = 4\n",
      "3^2 = 9\n",
      "4^2 = 16\n",
      "5^2 = 25\n",
      "6^2 = 36\n",
      "7^2 = 49\n",
      "8^2 = 64\n",
      "9^2 = 81\n",
      "10^2 = 100\n",
      "11^2 = 121\n",
      "12^2 = 144\n",
      "13^2 = 169\n",
      "14^2 = 196\n",
      "15^2 = 225\n",
      "16^2 = 256\n",
      "17^2 = 289\n",
      "18^2 = 324\n",
      "19^2 = 361\n",
      "20^2 = 400\n"
     ]
    }
   ],
   "source": [
    "print('num power result')\n",
    "for i in range(1,21):\n",
    "    print(f\"{i}^2 = {i**2}\")\n"
   ]
  },
  {
   "cell_type": "code",
   "execution_count": 17,
   "metadata": {},
   "outputs": [
    {
     "name": "stdout",
     "output_type": "stream",
     "text": [
      "num power result\n",
      "  1   2       1\n",
      "  2   2       4\n",
      "  3   2       9\n",
      "  4   2      16\n",
      "  5   2      25\n",
      "  6   2      36\n",
      "  7   2      49\n",
      "  8   2      64\n",
      "  9   2      81\n",
      " 10   2     100\n",
      " 11   2     121\n",
      " 12   2     144\n",
      " 13   2     169\n",
      " 14   2     196\n",
      " 15   2     225\n",
      " 16   2     256\n",
      " 17   2     289\n",
      " 18   2     324\n",
      " 19   2     361\n",
      " 20   2     400\n"
     ]
    }
   ],
   "source": [
    "print('num power result')\n",
    "for i in range(1,21):\n",
    "    print(f\"{i:3} {2:3}  {i**2:6}\")\n"
   ]
  },
  {
   "cell_type": "code",
   "execution_count": 24,
   "metadata": {},
   "outputs": [
    {
     "name": "stdout",
     "output_type": "stream",
     "text": [
      "num power result\n",
      "1  ❤ 2  💥 1     \n",
      "2  ❤ 2  💥 4     \n",
      "3  ❤ 2  💥 9     \n",
      "4  ❤ 2  💥 16    \n",
      "5  ❤ 2  💥 25    \n",
      "6  ❤ 2  💥 36    \n",
      "7  ❤ 2  💥 49    \n",
      "8  ❤ 2  💥 64    \n",
      "9  ❤ 2  💥 81    \n",
      "10 ❤ 2  💥 100   \n",
      "11 ❤ 2  💥 121   \n",
      "12 ❤ 2  💥 144   \n",
      "13 ❤ 2  💥 169   \n",
      "14 ❤ 2  💥 196   \n",
      "15 ❤ 2  💥 225   \n",
      "16 ❤ 2  💥 256   \n",
      "17 ❤ 2  💥 289   \n",
      "18 ❤ 2  💥 324   \n",
      "19 ❤ 2  💥 361   \n",
      "20 ❤ 2  💥 400   \n"
     ]
    }
   ],
   "source": [
    "print('num power result')\n",
    "for i in range(1,21):\n",
    "    print(f\"{i:<3}❤ {2:<3}💥 {i**2:<6}\")\n"
   ]
  },
  {
   "cell_type": "code",
   "execution_count": 25,
   "metadata": {},
   "outputs": [
    {
     "name": "stdout",
     "output_type": "stream",
     "text": [
      "num power result\n",
      "1  ❤ 2  💥 1     \n",
      "2  ❤ 2  💥 4     \n",
      "3  ❤ 2  💥 27    \n",
      "4  ❤ 2  💥 256   \n",
      "5  ❤ 2  💥 3125  \n",
      "6  ❤ 2  💥 46656 \n",
      "7  ❤ 2  💥 823543\n",
      "8  ❤ 2  💥 16777216\n",
      "9  ❤ 2  💥 387420489\n",
      "10 ❤ 2  💥 10000000000\n",
      "11 ❤ 2  💥 285311670611\n",
      "12 ❤ 2  💥 8916100448256\n",
      "13 ❤ 2  💥 302875106592253\n",
      "14 ❤ 2  💥 11112006825558016\n",
      "15 ❤ 2  💥 437893890380859375\n",
      "16 ❤ 2  💥 18446744073709551616\n",
      "17 ❤ 2  💥 827240261886336764177\n",
      "18 ❤ 2  💥 39346408075296537575424\n",
      "19 ❤ 2  💥 1978419655660313589123979\n",
      "20 ❤ 2  💥 104857600000000000000000000\n"
     ]
    }
   ],
   "source": [
    "print('num power result')\n",
    "for i in range(1,21):\n",
    "    print(f\"{i:<3}❤ {2:<3}💥 {i**i:<6}\")\n"
   ]
  },
  {
   "cell_type": "code",
   "execution_count": 31,
   "metadata": {},
   "outputs": [
    {
     "name": "stdout",
     "output_type": "stream",
     "text": [
      "True\n",
      "True\n",
      "False\n"
     ]
    }
   ],
   "source": [
    "a =\"hello\"\n",
    "print(a.isalpha())\n",
    "print(a.isalnum())\n",
    "print(a.isnumeric())"
   ]
  },
  {
   "cell_type": "code",
   "execution_count": 34,
   "metadata": {},
   "outputs": [
    {
     "name": "stdout",
     "output_type": "stream",
     "text": [
      "good job\n"
     ]
    }
   ],
   "source": [
    "num1 =input(\"enetr a number\")\n",
    "if num1.isalpha():\n",
    "    print(\"wo dont want alphabets\")\n",
    "if num1.isnumeric():\n",
    "    print(\"good job\")\n",
    "    num1 = int(num1)    "
   ]
  },
  {
   "cell_type": "code",
   "execution_count": 52,
   "metadata": {},
   "outputs": [
    {
     "name": "stdout",
     "output_type": "stream",
     "text": [
      "hello doctor\n"
     ]
    }
   ],
   "source": [
    "name= \"Dr. visha\"\n",
    "if name.startswith(\"Mr.\"):\n",
    "    print(\"hello mister\")\n",
    "if name.startswith(\"Dr.\"):\n",
    "    print(\"hello doctor\")\n",
    "if name.startswith(\"Er.\"):\n",
    "    print(\"hello Engineer\")        "
   ]
  },
  {
   "cell_type": "code",
   "execution_count": 37,
   "metadata": {},
   "outputs": [
    {
     "data": {
      "text/plain": [
       "['journey', 'Before', 'Destination']"
      ]
     },
     "execution_count": 37,
     "metadata": {},
     "output_type": "execute_result"
    }
   ],
   "source": [
    "msg.split()"
   ]
  },
  {
   "cell_type": "code",
   "execution_count": 41,
   "metadata": {},
   "outputs": [
    {
     "name": "stdout",
     "output_type": "stream",
     "text": [
      "['1-0', '2-0', '-6.4', '-8.4']\n"
     ]
    }
   ],
   "source": [
    "data = '1-0,2-0,-6.4,-8.4'\n",
    "score =data.split(\",\")\n",
    "print(score)"
   ]
  },
  {
   "cell_type": "code",
   "execution_count": 45,
   "metadata": {},
   "outputs": [
    {
     "name": "stdout",
     "output_type": "stream",
     "text": [
      "['1', '2', '3', '4', '5', '6', '7', '8', '9']\n"
     ]
    }
   ],
   "source": [
    "user_values =input(\"enter values seperaed by,\")\n",
    "print(user_values.split(','))"
   ]
  },
  {
   "cell_type": "code",
   "execution_count": 49,
   "metadata": {},
   "outputs": [
    {
     "data": {
      "text/plain": [
       "'hello this is a list'"
      ]
     },
     "execution_count": 49,
     "metadata": {},
     "output_type": "execute_result"
    }
   ],
   "source": [
    "values = [\"hello\", \"this\", \"is\", \"a\", \"list\"]\n",
    "\" \".join(values)\n"
   ]
  },
  {
   "cell_type": "code",
   "execution_count": null,
   "metadata": {},
   "outputs": [],
   "source": []
  }
 ],
 "metadata": {
  "kernelspec": {
   "display_name": "base",
   "language": "python",
   "name": "python3"
  },
  "language_info": {
   "codemirror_mode": {
    "name": "ipython",
    "version": 3
   },
   "file_extension": ".py",
   "mimetype": "text/x-python",
   "name": "python",
   "nbconvert_exporter": "python",
   "pygments_lexer": "ipython3",
   "version": "3.10.10"
  },
  "orig_nbformat": 4
 },
 "nbformat": 4,
 "nbformat_minor": 2
}
