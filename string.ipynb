{
 "cells": [
  {
   "attachments": {},
   "cell_type": "markdown",
   "metadata": {},
   "source": [
    "# string (creating,indexing,slicing,methods_formating,validation methods,utility methods)"
   ]
  },
  {
   "cell_type": "code",
   "execution_count": 1,
   "metadata": {},
   "outputs": [
    {
     "name": "stdout",
     "output_type": "stream",
     "text": [
      "<class 'str'>\n",
      "<class 'str'>\n"
     ]
    }
   ],
   "source": [
    "a=\"hello\" #string\n",
    "b=\"sumit\"\n",
    "print(type(a))\n",
    "print(type(b))"
   ]
  },
  {
   "cell_type": "code",
   "execution_count": 2,
   "metadata": {},
   "outputs": [],
   "source": [
    "a=\"hello\" #string\n",
    "b=\"sumit\"\n",
    "c='''this is a multiline from the past'''"
   ]
  },
  {
   "cell_type": "code",
   "execution_count": 3,
   "metadata": {},
   "outputs": [
    {
     "name": "stdout",
     "output_type": "stream",
     "text": [
      "this is a 'importent' massage\n"
     ]
    }
   ],
   "source": [
    "print(\"this is a \\'importent\\' massage\")"
   ]
  },
  {
   "cell_type": "code",
   "execution_count": 4,
   "metadata": {},
   "outputs": [
    {
     "name": "stdout",
     "output_type": "stream",
     "text": [
      "this is a 'importent' \n",
      " massage\n"
     ]
    }
   ],
   "source": [
    "print(\"this is a \\'importent\\' \\n massage\")"
   ]
  },
  {
   "cell_type": "code",
   "execution_count": 5,
   "metadata": {},
   "outputs": [
    {
     "name": "stdout",
     "output_type": "stream",
     "text": [
      "this is a 'importent' massage\n"
     ]
    }
   ],
   "source": [
    "print(\"this is a 'importent' massage\")"
   ]
  },
  {
   "cell_type": "code",
   "execution_count": 6,
   "metadata": {},
   "outputs": [
    {
     "name": "stdout",
     "output_type": "stream",
     "text": [
      "sumit\n"
     ]
    }
   ],
   "source": [
    "a=input(\"enter a name:\")\n",
    "print(a)\n"
   ]
  },
  {
   "cell_type": "code",
   "execution_count": 7,
   "metadata": {},
   "outputs": [
    {
     "name": "stdout",
     "output_type": "stream",
     "text": [
      "985463215\n"
     ]
    }
   ],
   "source": [
    "x=str(985463215)\n",
    "print(x)"
   ]
  },
  {
   "cell_type": "code",
   "execution_count": 8,
   "metadata": {},
   "outputs": [
    {
     "name": "stdout",
     "output_type": "stream",
     "text": [
      "JOURNEY BEFORE DESTINATION\n",
      "journey before destination\n",
      "Journey Before Destination\n",
      "Journey before destination\n",
      "journey before destination\n",
      "JOURNEY bEFORE dESTINATION\n"
     ]
    }
   ],
   "source": [
    "msg=\"journey Before Destination\"\n",
    "print(msg.upper())\n",
    "print(msg.lower())\n",
    "print(msg.title())\n",
    "print(msg.capitalize())\n",
    "print(msg.casefold())\n",
    "print(msg.swapcase())"
   ]
  },
  {
   "cell_type": "code",
   "execution_count": 9,
   "metadata": {},
   "outputs": [
    {
     "name": "stdout",
     "output_type": "stream",
     "text": [
      "journey Before Destination                                                                                                 \n",
      "                                                journey Before Destination                                                 \n"
     ]
    }
   ],
   "source": [
    "print(f\"{msg:123}\")\n",
    "print(f\"{msg:^123}\")"
   ]
  },
  {
   "cell_type": "code",
   "execution_count": 10,
   "metadata": {},
   "outputs": [
    {
     "name": "stdout",
     "output_type": "stream",
     "text": [
      "                                     journey Before Destination                                     \n",
      "journey Before Destination                                                                          \n",
      "                                                                          journey Before Destination\n"
     ]
    }
   ],
   "source": [
    "print(msg.center(100)) \n",
    "print(msg.ljust(100))\n",
    "print(msg.rjust(100))"
   ]
  },
  {
   "cell_type": "code",
   "execution_count": 11,
   "metadata": {},
   "outputs": [
    {
     "name": "stdout",
     "output_type": "stream",
     "text": [
      "*************************************journey Before Destination*************************************\n",
      "journey Before Destination                                                                          \n",
      "                                                                          journey Before Destination\n"
     ]
    }
   ],
   "source": [
    "print(msg.center(100, '*')) \n",
    "print(msg.ljust(100))\n",
    "print(msg.rjust(100))"
   ]
  },
  {
   "cell_type": "code",
   "execution_count": 12,
   "metadata": {},
   "outputs": [
    {
     "name": "stdout",
     "output_type": "stream",
     "text": [
      "0\n",
      "1\n",
      "4\n",
      "9\n",
      "16\n",
      "25\n",
      "36\n",
      "49\n",
      "64\n",
      "81\n"
     ]
    }
   ],
   "source": [
    "for i in range(10):\n",
    "    print(i**2)"
   ]
  },
  {
   "cell_type": "code",
   "execution_count": 13,
   "metadata": {},
   "outputs": [
    {
     "name": "stdout",
     "output_type": "stream",
     "text": [
      "1\n",
      "4\n",
      "9\n",
      "16\n",
      "25\n",
      "36\n",
      "49\n",
      "64\n",
      "81\n",
      "100\n",
      "121\n",
      "144\n",
      "169\n",
      "196\n",
      "225\n",
      "256\n",
      "289\n",
      "324\n",
      "361\n",
      "400\n"
     ]
    }
   ],
   "source": [
    "for i in range(1,21):\n",
    "    print(i**2)"
   ]
  },
  {
   "cell_type": "code",
   "execution_count": 14,
   "metadata": {},
   "outputs": [
    {
     "name": "stdout",
     "output_type": "stream",
     "text": [
      "num power result\n",
      "1^2 = 1\n",
      "2^2 = 4\n",
      "3^2 = 9\n",
      "4^2 = 16\n",
      "5^2 = 25\n",
      "6^2 = 36\n",
      "7^2 = 49\n",
      "8^2 = 64\n",
      "9^2 = 81\n",
      "10^2 = 100\n",
      "11^2 = 121\n",
      "12^2 = 144\n",
      "13^2 = 169\n",
      "14^2 = 196\n",
      "15^2 = 225\n",
      "16^2 = 256\n",
      "17^2 = 289\n",
      "18^2 = 324\n",
      "19^2 = 361\n",
      "20^2 = 400\n"
     ]
    }
   ],
   "source": [
    "print('num power result')\n",
    "for i in range(1,21):\n",
    "    print(f\"{i}^2 = {i**2}\")\n"
   ]
  },
  {
   "cell_type": "code",
   "execution_count": 15,
   "metadata": {},
   "outputs": [
    {
     "name": "stdout",
     "output_type": "stream",
     "text": [
      "num power result\n",
      "  1   2       1\n",
      "  2   2       4\n",
      "  3   2       9\n",
      "  4   2      16\n",
      "  5   2      25\n",
      "  6   2      36\n",
      "  7   2      49\n",
      "  8   2      64\n",
      "  9   2      81\n",
      " 10   2     100\n",
      " 11   2     121\n",
      " 12   2     144\n",
      " 13   2     169\n",
      " 14   2     196\n",
      " 15   2     225\n",
      " 16   2     256\n",
      " 17   2     289\n",
      " 18   2     324\n",
      " 19   2     361\n",
      " 20   2     400\n"
     ]
    }
   ],
   "source": [
    "print('num power result')\n",
    "for i in range(1,21):\n",
    "    print(f\"{i:3} {2:3}  {i**2:6}\")\n"
   ]
  },
  {
   "cell_type": "code",
   "execution_count": 16,
   "metadata": {},
   "outputs": [
    {
     "name": "stdout",
     "output_type": "stream",
     "text": [
      "num power result\n",
      "1  ❤ 2  💥 1     \n",
      "2  ❤ 2  💥 4     \n",
      "3  ❤ 2  💥 9     \n",
      "4  ❤ 2  💥 16    \n",
      "5  ❤ 2  💥 25    \n",
      "6  ❤ 2  💥 36    \n",
      "7  ❤ 2  💥 49    \n",
      "8  ❤ 2  💥 64    \n",
      "9  ❤ 2  💥 81    \n",
      "10 ❤ 2  💥 100   \n",
      "11 ❤ 2  💥 121   \n",
      "12 ❤ 2  💥 144   \n",
      "13 ❤ 2  💥 169   \n",
      "14 ❤ 2  💥 196   \n",
      "15 ❤ 2  💥 225   \n",
      "16 ❤ 2  💥 256   \n",
      "17 ❤ 2  💥 289   \n",
      "18 ❤ 2  💥 324   \n",
      "19 ❤ 2  💥 361   \n",
      "20 ❤ 2  💥 400   \n"
     ]
    }
   ],
   "source": [
    "print('num power result')\n",
    "for i in range(1,21):\n",
    "    print(f\"{i:<3}❤ {2:<3}💥 {i**2:<6}\")\n"
   ]
  },
  {
   "cell_type": "code",
   "execution_count": 17,
   "metadata": {},
   "outputs": [
    {
     "name": "stdout",
     "output_type": "stream",
     "text": [
      "num power result\n",
      "1  ❤ 2  💥 1     \n",
      "2  ❤ 2  💥 4     \n",
      "3  ❤ 2  💥 27    \n",
      "4  ❤ 2  💥 256   \n",
      "5  ❤ 2  💥 3125  \n",
      "6  ❤ 2  💥 46656 \n",
      "7  ❤ 2  💥 823543\n",
      "8  ❤ 2  💥 16777216\n",
      "9  ❤ 2  💥 387420489\n",
      "10 ❤ 2  💥 10000000000\n",
      "11 ❤ 2  💥 285311670611\n",
      "12 ❤ 2  💥 8916100448256\n",
      "13 ❤ 2  💥 302875106592253\n",
      "14 ❤ 2  💥 11112006825558016\n",
      "15 ❤ 2  💥 437893890380859375\n",
      "16 ❤ 2  💥 18446744073709551616\n",
      "17 ❤ 2  💥 827240261886336764177\n",
      "18 ❤ 2  💥 39346408075296537575424\n",
      "19 ❤ 2  💥 1978419655660313589123979\n",
      "20 ❤ 2  💥 104857600000000000000000000\n"
     ]
    }
   ],
   "source": [
    "print('num power result')\n",
    "for i in range(1,21):\n",
    "    print(f\"{i:<3}❤ {2:<3}💥 {i**i:<6}\")\n"
   ]
  },
  {
   "cell_type": "code",
   "execution_count": 18,
   "metadata": {},
   "outputs": [
    {
     "name": "stdout",
     "output_type": "stream",
     "text": [
      "True\n",
      "True\n",
      "False\n"
     ]
    }
   ],
   "source": [
    "a =\"hello\"\n",
    "print(a.isalpha())\n",
    "print(a.isalnum())\n",
    "print(a.isnumeric())"
   ]
  },
  {
   "cell_type": "code",
   "execution_count": 19,
   "metadata": {},
   "outputs": [
    {
     "name": "stdout",
     "output_type": "stream",
     "text": [
      "good job\n"
     ]
    }
   ],
   "source": [
    "num1 =input(\"enetr a number\")\n",
    "if num1.isalpha():\n",
    "    print(\"wo dont want alphabets\")\n",
    "if num1.isnumeric():\n",
    "    print(\"good job\")\n",
    "    num1 = int(num1)    "
   ]
  },
  {
   "cell_type": "code",
   "execution_count": 20,
   "metadata": {},
   "outputs": [
    {
     "name": "stdout",
     "output_type": "stream",
     "text": [
      "hello doctor\n"
     ]
    }
   ],
   "source": [
    "name= \"Dr. visha\"\n",
    "if name.startswith(\"Mr.\"):\n",
    "    print(\"hello mister\")\n",
    "if name.startswith(\"Dr.\"):\n",
    "    print(\"hello doctor\")\n",
    "if name.startswith(\"Er.\"):\n",
    "    print(\"hello Engineer\")        "
   ]
  },
  {
   "cell_type": "code",
   "execution_count": 21,
   "metadata": {},
   "outputs": [
    {
     "data": {
      "text/plain": [
       "['journey', 'Before', 'Destination']"
      ]
     },
     "execution_count": 21,
     "metadata": {},
     "output_type": "execute_result"
    }
   ],
   "source": [
    "msg.split()"
   ]
  },
  {
   "cell_type": "code",
   "execution_count": 22,
   "metadata": {},
   "outputs": [
    {
     "name": "stdout",
     "output_type": "stream",
     "text": [
      "['1-0', '2-0', '-6.4', '-8.4']\n"
     ]
    }
   ],
   "source": [
    "data = '1-0,2-0,-6.4,-8.4'\n",
    "score =data.split(\",\")\n",
    "print(score)"
   ]
  },
  {
   "cell_type": "code",
   "execution_count": 23,
   "metadata": {},
   "outputs": [
    {
     "name": "stdout",
     "output_type": "stream",
     "text": [
      "['45']\n"
     ]
    }
   ],
   "source": [
    "user_values =input(\"enter values seperaed by,\")\n",
    "print(user_values.split(','))"
   ]
  },
  {
   "cell_type": "code",
   "execution_count": 24,
   "metadata": {},
   "outputs": [],
   "source": [
    "massage = \"this is an example where we are using some words\""
   ]
  },
  {
   "cell_type": "code",
   "execution_count": 25,
   "metadata": {},
   "outputs": [
    {
     "data": {
      "text/plain": [
       "['this', 'is', 'an', 'example', 'where', 'we', 'are', 'using', 'some', 'words']"
      ]
     },
     "execution_count": 25,
     "metadata": {},
     "output_type": "execute_result"
    }
   ],
   "source": [
    "massage.split()"
   ]
  },
  {
   "cell_type": "code",
   "execution_count": 26,
   "metadata": {},
   "outputs": [],
   "source": [
    "massage = \"this is an example where, we are using some words\""
   ]
  },
  {
   "cell_type": "code",
   "execution_count": 27,
   "metadata": {},
   "outputs": [
    {
     "data": {
      "text/plain": [
       "['this is an example where', ' we are using some words']"
      ]
     },
     "execution_count": 27,
     "metadata": {},
     "output_type": "execute_result"
    }
   ],
   "source": [
    "massage.split(\",\")"
   ]
  },
  {
   "cell_type": "code",
   "execution_count": 28,
   "metadata": {},
   "outputs": [
    {
     "name": "stdout",
     "output_type": "stream",
     "text": [
      "this\n",
      "is\n",
      "an\n",
      "example\n",
      "where,\n",
      "we\n",
      "are\n",
      "using\n",
      "some\n",
      "words\n"
     ]
    }
   ],
   "source": [
    "words =massage.split()\n",
    "for i in words:\n",
    "    print(i)"
   ]
  },
  {
   "cell_type": "code",
   "execution_count": 29,
   "metadata": {},
   "outputs": [
    {
     "data": {
      "text/plain": [
       "'this💖 is💖 an💖 example💖 where,💖 we💖 are💖 using💖 some💖 words'"
      ]
     },
     "execution_count": 29,
     "metadata": {},
     "output_type": "execute_result"
    }
   ],
   "source": [
    "\"💖 \".join(words)"
   ]
  },
  {
   "cell_type": "code",
   "execution_count": 30,
   "metadata": {},
   "outputs": [
    {
     "data": {
      "text/plain": [
       "'hello this is a list'"
      ]
     },
     "execution_count": 30,
     "metadata": {},
     "output_type": "execute_result"
    }
   ],
   "source": [
    "values = [\"hello\", \"this\", \"is\", \"a\", \"list\"]\n",
    "\" \".join(values)\n"
   ]
  },
  {
   "cell_type": "code",
   "execution_count": 31,
   "metadata": {},
   "outputs": [],
   "source": [
    "name = \"vijay deenanath chauhan\""
   ]
  },
  {
   "cell_type": "code",
   "execution_count": 32,
   "metadata": {},
   "outputs": [
    {
     "name": "stdout",
     "output_type": "stream",
     "text": [
      "v\n",
      "n\n",
      "vijay\n",
      "deenanath\n",
      "chauhan\n",
      "nahuahc htananeed yajiv\n",
      "vjydeaahcahn\n"
     ]
    }
   ],
   "source": [
    "print(name[0])\n",
    "print(name[-1])\n",
    "print(name[:5])\n",
    "print(name[6:15])\n",
    "print(name[-7:])\n",
    "print(name[::-1]) #reverse a sequence\n",
    "print(name[::2])  #skip ever 2nd character"
   ]
  },
  {
   "cell_type": "code",
   "execution_count": 33,
   "metadata": {},
   "outputs": [],
   "source": [
    "x = \"this is an example where we are using some words\""
   ]
  },
  {
   "cell_type": "code",
   "execution_count": 34,
   "metadata": {},
   "outputs": [
    {
     "name": "stdout",
     "output_type": "stream",
     "text": [
      "40\n",
      "25\n",
      "8\n",
      "13\n",
      "-1\n"
     ]
    }
   ],
   "source": [
    "print(x.find(\"me\"))\n",
    "print(x.find(\"we\"))\n",
    "print(x.find(\"a\"))\n",
    "print(x.find(\"a\",9))\n",
    "print(x.find(\"z\"))"
   ]
  },
  {
   "cell_type": "code",
   "execution_count": 35,
   "metadata": {},
   "outputs": [
    {
     "data": {
      "text/plain": [
       "'this is an eeeexampleeee wheeeereeee, weeee areeee using someeee words'"
      ]
     },
     "execution_count": 35,
     "metadata": {},
     "output_type": "execute_result"
    }
   ],
   "source": [
    "massage.replace(\"e\",\"eeee\")"
   ]
  },
  {
   "cell_type": "code",
   "execution_count": 36,
   "metadata": {},
   "outputs": [
    {
     "data": {
      "text/plain": [
       "'this is a story where, we are using some sentences'"
      ]
     },
     "execution_count": 36,
     "metadata": {},
     "output_type": "execute_result"
    }
   ],
   "source": [
    "massage.replace(\"an example\",\"a story\").replace(\"words\",\"sentences\")"
   ]
  },
  {
   "cell_type": "code",
   "execution_count": 37,
   "metadata": {},
   "outputs": [
    {
     "name": "stdout",
     "output_type": "stream",
     "text": [
      "this is a story where, we are using some words\n"
     ]
    }
   ],
   "source": [
    "massage=massage.replace(\"an example\",\"a story\")\n",
    "print(massage)"
   ]
  },
  {
   "cell_type": "code",
   "execution_count": 38,
   "metadata": {},
   "outputs": [
    {
     "data": {
      "text/plain": [
       "'this is a story whr, w are using some words'"
      ]
     },
     "execution_count": 38,
     "metadata": {},
     "output_type": "execute_result"
    }
   ],
   "source": [
    "massage.replace(\"e\",'',3)"
   ]
  },
  {
   "cell_type": "code",
   "execution_count": 39,
   "metadata": {},
   "outputs": [
    {
     "data": {
      "text/plain": [
       "'alex johnny yes papa,eating suger no papa'"
      ]
     },
     "execution_count": 39,
     "metadata": {},
     "output_type": "execute_result"
    }
   ],
   "source": [
    "poem=\"johnny johnny yes papa,eating suger no papa\"\n",
    "poem.replace(\"johnny\",\"alex\",1)"
   ]
  },
  {
   "cell_type": "code",
   "execution_count": 40,
   "metadata": {},
   "outputs": [
    {
     "data": {
      "text/plain": [
       "'alex alex yes papa,eating suger no papa'"
      ]
     },
     "execution_count": 40,
     "metadata": {},
     "output_type": "execute_result"
    }
   ],
   "source": [
    "poem.replace(\"johnny\",\"alex\")\n"
   ]
  },
  {
   "cell_type": "code",
   "execution_count": 41,
   "metadata": {},
   "outputs": [],
   "source": [
    "message= \"this is an example where another example is used to show an example\""
   ]
  },
  {
   "cell_type": "code",
   "execution_count": 42,
   "metadata": {},
   "outputs": [
    {
     "name": "stdout",
     "output_type": "stream",
     "text": [
      "example is used 3times\n"
     ]
    }
   ],
   "source": [
    "ce = message.count(\"example\")\n",
    "print(f\"example is used {ce}times\")"
   ]
  },
  {
   "cell_type": "code",
   "execution_count": null,
   "metadata": {},
   "outputs": [],
   "source": []
  }
 ],
 "metadata": {
  "kernelspec": {
   "display_name": "base",
   "language": "python",
   "name": "python3"
  },
  "language_info": {
   "codemirror_mode": {
    "name": "ipython",
    "version": 3
   },
   "file_extension": ".py",
   "mimetype": "text/x-python",
   "name": "python",
   "nbconvert_exporter": "python",
   "pygments_lexer": "ipython3",
   "version": "3.10.10"
  },
  "orig_nbformat": 4
 },
 "nbformat": 4,
 "nbformat_minor": 2
}
