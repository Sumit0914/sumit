{
 "cells": [
  {
   "attachments": {},
   "cell_type": "markdown",
   "metadata": {},
   "source": [
    "                                                   #### indxing"
   ]
  },
  {
   "cell_type": "code",
   "execution_count": 2,
   "metadata": {},
   "outputs": [
    {
     "name": "stdout",
     "output_type": "stream",
     "text": [
      "entri\n"
     ]
    }
   ],
   "source": [
    "a=[\"ajio\",\"axis bank\",\"calcuator\",\"calender\",\"camra\",\"chromr\",\"clock\",\"cpmpass\",\"contacts\",\"cred\",\"entri\",\"facebook\",\"flipcard\",\"game\",\"google\",\"gpya\",\"hotstar\",\"instagram\",\"internet\",\"irctc\",\"maps\",\"meet\",\"massages\",\"oyo\",\"phone\",\"photos\",\"realme\",\"uber\",\"videos\",\"whatsapp\",\"weather\",\"youtube\"]\n",
    "print (a[10])"
   ]
  },
  {
   "cell_type": "code",
   "execution_count": 3,
   "metadata": {},
   "outputs": [
    {
     "name": "stdout",
     "output_type": "stream",
     "text": [
      "massages\n"
     ]
    }
   ],
   "source": [
    "a=[\"ajio\",\"axis bank\",\"calcuator\",\"calender\",\"camra\",\"chromr\",\"clock\",\"cpmpass\",\"contacts\",\"cred\",\"entri\",\"facebook\",\"flipcard\",\"game\",\"google\",\"gpya\",\"hotstar\",\"instagram\",\"internet\",\"irctc\",\"maps\",\"meet\",\"massages\",\"oyo\",\"phone\",\"photos\",\"realme\",\"uber\",\"videos\",\"whatsapp\",\"weather\",\"youtube\"]\n",
    "print (a[-10])"
   ]
  },
  {
   "attachments": {},
   "cell_type": "markdown",
   "metadata": {},
   "source": [
    "                                                      #### slicing"
   ]
  },
  {
   "cell_type": "code",
   "execution_count": null,
   "metadata": {},
   "outputs": [],
   "source": [
    "a=[\"ajio\",\"axis bank\",\"calcuator\",\"calender\",\"camra\",\"chromr\",\"clock\",\"cpmpass\",\"contacts\",\"cred\",\"entri\",\"facebook\",\"flipcard\",\"game\",\"google\",\"gpya\",\"hotstar\",\"instagram\",\"internet\",\"irctc\",\"maps\",\"meet\",\"massages\",\"oyo\",\"phone\",\"photos\",\"realme\",\"uber\",\"videos\",\"whatsapp\",\"weather\",\"youtube\"]\n",
    "print (a[2:42:2])"
   ]
  },
  {
   "cell_type": "code",
   "execution_count": 1,
   "metadata": {},
   "outputs": [
    {
     "name": "stdout",
     "output_type": "stream",
     "text": [
      "['calcuator', 'calender', 'camra']\n"
     ]
    }
   ],
   "source": [
    "a=[\"ajio\",\"axis bank\",\"calcuator\",\"calender\",\"camra\",\"chromr\",\"clock\",\"cpmpass\",\"contacts\"]\n",
    "print(a[2:5])"
   ]
  },
  {
   "cell_type": "code",
   "execution_count": 2,
   "metadata": {},
   "outputs": [
    {
     "name": "stdout",
     "output_type": "stream",
     "text": [
      "['chromr', 'clock', 'cpmpass', 'contacts']\n"
     ]
    }
   ],
   "source": [
    "a=[\"ajio\",\"axis bank\",\"calcuator\",\"calender\",\"camra\",\"chromr\",\"clock\",\"cpmpass\",\"contacts\"]\n",
    "print(a[5:])"
   ]
  },
  {
   "cell_type": "code",
   "execution_count": 3,
   "metadata": {},
   "outputs": [
    {
     "name": "stdout",
     "output_type": "stream",
     "text": [
      "['ajio', 'axis bank', 'calcuator', 'calender', 'camra', 'chromr', 'clock', 'cpmpass', 'contacts']\n"
     ]
    }
   ],
   "source": [
    "a=[\"ajio\",\"axis bank\",\"calcuator\",\"calender\",\"camra\",\"chromr\",\"clock\",\"cpmpass\",\"contacts\"]\n",
    "print(a[:])"
   ]
  },
  {
   "cell_type": "code",
   "execution_count": 4,
   "metadata": {},
   "outputs": [
    {
     "name": "stdout",
     "output_type": "stream",
     "text": [
      "['axis bank', 'calender', 'chromr', 'cpmpass']\n"
     ]
    }
   ],
   "source": [
    "a=[\"ajio\",\"axis bank\",\"calcuator\",\"calender\",\"camra\",\"chromr\",\"clock\",\"cpmpass\",\"contacts\"]\n",
    "print(a[1:9:2])"
   ]
  },
  {
   "cell_type": "code",
   "execution_count": 11,
   "metadata": {},
   "outputs": [
    {
     "name": "stdout",
     "output_type": "stream",
     "text": [
      "['contacts']\n"
     ]
    }
   ],
   "source": [
    "a=[\"ajio\",\"axis bank\",\"calcuator\",\"calender\",\"camra\",\"chromr\",\"clock\",\"cpmpass\",\"contacts\"]\n",
    "print(a[-1:])"
   ]
  },
  {
   "cell_type": "code",
   "execution_count": null,
   "metadata": {},
   "outputs": [],
   "source": []
  }
 ],
 "metadata": {
  "kernelspec": {
   "display_name": "base",
   "language": "python",
   "name": "python3"
  },
  "language_info": {
   "codemirror_mode": {
    "name": "ipython",
    "version": 3
   },
   "file_extension": ".py",
   "mimetype": "text/x-python",
   "name": "python",
   "nbconvert_exporter": "python",
   "pygments_lexer": "ipython3",
   "version": "3.10.10"
  },
  "orig_nbformat": 4
 },
 "nbformat": 4,
 "nbformat_minor": 2
}
