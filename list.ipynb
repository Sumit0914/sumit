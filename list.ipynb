{
 "cells": [
  {
   "cell_type": "code",
   "execution_count": 4,
   "metadata": {},
   "outputs": [
    {
     "name": "stdout",
     "output_type": "stream",
     "text": [
      "32\n"
     ]
    }
   ],
   "source": [
    "a=[\"ajio\",\"axis bank\",\"calcuator\",\"calender\",\"camra\",\"chromr\",\"clock\",\"cpmpass\",\"contacts\",\"cred\",\"entri\",\"facebook\",\"flipcard\",\"game\",\"google\",\"gpya\",\"hotstar\",\"instagram\",\"internet\",\"irctc\",\"maps\",\"meet\",\"massages\",\"oyo\",\"phone\",\"photos\",\"realme\",\"uber\",\"videos\",\"whatsapp\",\"weather\",\"youtube\"]\n",
    "print (len(a))"
   ]
  },
  {
   "cell_type": "code",
   "execution_count": 5,
   "metadata": {},
   "outputs": [
    {
     "name": "stdout",
     "output_type": "stream",
     "text": [
      "['ajio', 'axis bank', 'calcuator', 'calender', 'camra', 'chromr', 'clock', 'cpmpass', 'contacts', 'cred', 'entri', 'facebook', 'flipcard', 'game', 'google', 'gpya', 'hotstar', 'instagram', 'internet', 'irctc', 'maps', 'meet', 'massages', 'oyo', 'phone', 'photos', 'realme', 'uber', 'videos', 'whatsapp', 'weather', 'youtube', 'sumit']\n"
     ]
    }
   ],
   "source": [
    "#append list ke last me add krta hai \n",
    "a=[\"ajio\",\"axis bank\",\"calcuator\",\"calender\",\"camra\",\"chromr\",\"clock\",\"cpmpass\",\"contacts\",\"cred\",\"entri\",\"facebook\",\"flipcard\",\"game\",\"google\",\"gpya\",\"hotstar\",\"instagram\",\"internet\",\"irctc\",\"maps\",\"meet\",\"massages\",\"oyo\",\"phone\",\"photos\",\"realme\",\"uber\",\"videos\",\"whatsapp\",\"weather\",\"youtube\"]\n",
    "a.append(\"sumit\")\n",
    "print(a)"
   ]
  },
  {
   "cell_type": "code",
   "execution_count": 6,
   "metadata": {},
   "outputs": [
    {
     "name": "stdout",
     "output_type": "stream",
     "text": [
      "['ajio', 'vikash', 'axis bank', 'calcuator', 'calender', 'camra', 'chromr', 'clock', 'cpmpass', 'contacts', 'cred', 'entri', 'facebook', 'flipcard', 'game', 'google', 'gpya', 'hotstar', 'instagram', 'internet', 'irctc', 'maps', 'meet', 'massages', 'oyo', 'phone', 'photos', 'realme', 'uber', 'videos', 'whatsapp', 'weather', 'youtube']\n"
     ]
    }
   ],
   "source": [
    "#diye gye num pr add hota hai \n",
    "a=[\"ajio\",\"axis bank\",\"calcuator\",\"calender\",\"camra\",\"chromr\",\"clock\",\"cpmpass\",\"contacts\",\"cred\",\"entri\",\"facebook\",\"flipcard\",\"game\",\"google\",\"gpya\",\"hotstar\",\"instagram\",\"internet\",\"irctc\",\"maps\",\"meet\",\"massages\",\"oyo\",\"phone\",\"photos\",\"realme\",\"uber\",\"videos\",\"whatsapp\",\"weather\",\"youtube\"]\n",
    "a.insert(1,\"vikash\")\n",
    "print(a)"
   ]
  },
  {
   "cell_type": "code",
   "execution_count": 7,
   "metadata": {},
   "outputs": [
    {
     "name": "stdout",
     "output_type": "stream",
     "text": [
      "['youtube', 'weather', 'whatsapp', 'videos', 'uber', 'realme', 'photos', 'phone', 'oyo', 'massages', 'meet', 'maps', 'irctc', 'internet', 'instagram', 'hotstar', 'gpya', 'google', 'game', 'flipcard', 'facebook', 'entri', 'cred', 'contacts', 'cpmpass', 'clock', 'chromr', 'camra', 'calender', 'calcuator', 'axis bank', 'ajio']\n"
     ]
    }
   ],
   "source": [
    "#reverse the list\n",
    "a=[\"ajio\",\"axis bank\",\"calcuator\",\"calender\",\"camra\",\"chromr\",\"clock\",\"cpmpass\",\"contacts\",\"cred\",\"entri\",\"facebook\",\"flipcard\",\"game\",\"google\",\"gpya\",\"hotstar\",\"instagram\",\"internet\",\"irctc\",\"maps\",\"meet\",\"massages\",\"oyo\",\"phone\",\"photos\",\"realme\",\"uber\",\"videos\",\"whatsapp\",\"weather\",\"youtube\"]\n",
    "a.reverse()\n",
    "print(a)"
   ]
  },
  {
   "cell_type": "code",
   "execution_count": 8,
   "metadata": {},
   "outputs": [
    {
     "name": "stdout",
     "output_type": "stream",
     "text": [
      "['axis bank', 'calcuator', 'calender', 'camra', 'chromr', 'clock', 'cpmpass', 'contacts', 'cred', 'entri', 'facebook', 'flipcard', 'game', 'google', 'gpya', 'hotstar', 'instagram', 'internet', 'irctc', 'maps', 'meet', 'massages', 'oyo', 'phone', 'photos', 'realme', 'uber', 'videos', 'whatsapp', 'weather', 'youtube']\n"
     ]
    }
   ],
   "source": [
    "# pop\n",
    "a=[\"ajio\",\"axis bank\",\"calcuator\",\"calender\",\"camra\",\"chromr\",\"clock\",\"cpmpass\",\"contacts\",\"cred\",\"entri\",\"facebook\",\"flipcard\",\"game\",\"google\",\"gpya\",\"hotstar\",\"instagram\",\"internet\",\"irctc\",\"maps\",\"meet\",\"massages\",\"oyo\",\"phone\",\"photos\",\"realme\",\"uber\",\"videos\",\"whatsapp\",\"weather\",\"youtube\"]\n",
    "a.pop(0)\n",
    "print(a)"
   ]
  },
  {
   "cell_type": "code",
   "execution_count": 9,
   "metadata": {},
   "outputs": [
    {
     "name": "stdout",
     "output_type": "stream",
     "text": [
      "['ajio', 'axis bank', 'calcuator', 'calender', 'chromr', 'clock', 'cpmpass', 'contacts', 'cred', 'entri', 'facebook', 'flipcard', 'game', 'google', 'gpya', 'hotstar', 'instagram', 'internet', 'irctc', 'maps', 'meet', 'massages', 'oyo', 'phone', 'photos', 'realme', 'uber', 'videos', 'whatsapp', 'weather', 'youtube']\n"
     ]
    }
   ],
   "source": [
    "# remove tha element at the apecified position\n",
    "a=[\"ajio\",\"axis bank\",\"calcuator\",\"calender\",\"camra\",\"chromr\",\"clock\",\"cpmpass\",\"contacts\",\"cred\",\"entri\",\"facebook\",\"flipcard\",\"game\",\"google\",\"gpya\",\"hotstar\",\"instagram\",\"internet\",\"irctc\",\"maps\",\"meet\",\"massages\",\"oyo\",\"phone\",\"photos\",\"realme\",\"uber\",\"videos\",\"whatsapp\",\"weather\",\"youtube\"]\n",
    "a.remove(\"camra\")\n",
    "print(a)"
   ]
  },
  {
   "cell_type": "code",
   "execution_count": 10,
   "metadata": {},
   "outputs": [
    {
     "name": "stdout",
     "output_type": "stream",
     "text": [
      "['ajio', 'axis bank', 'calcuator', 'calender', 'camra', 'chromr', 'clock', 'contacts', 'cpmpass', 'cred', 'entri', 'facebook', 'flipcard', 'game', 'google', 'gpya', 'hotstar', 'instagram', 'internet', 'irctc', 'maps', 'massages', 'meet', 'oyo', 'phone', 'photos', 'realme', 'uber', 'videos', 'weather', 'whatsapp', 'youtube']\n"
     ]
    }
   ],
   "source": [
    "# sort\n",
    "a=[\"ajio\",\"axis bank\",\"calcuator\",\"calender\",\"camra\",\"chromr\",\"clock\",\"cpmpass\",\"contacts\",\"cred\",\"entri\",\"facebook\",\"flipcard\",\"game\",\"google\",\"gpya\",\"hotstar\",\"instagram\",\"internet\",\"irctc\",\"maps\",\"meet\",\"massages\",\"oyo\",\"phone\",\"photos\",\"realme\",\"uber\",\"videos\",\"whatsapp\",\"weather\",\"youtube\"]\n",
    "a.sort()\n",
    "print(a)"
   ]
  },
  {
   "cell_type": "code",
   "execution_count": 11,
   "metadata": {},
   "outputs": [
    {
     "name": "stdout",
     "output_type": "stream",
     "text": [
      "1\n"
     ]
    }
   ],
   "source": [
    "a=[\"ajio\",\"axis bank\",\"calcuator\",\"calender\",\"camra\",\"chromr\",\"clock\",\"cpmpass\",\"contacts\",\"cred\",\"entri\",\"facebook\",\"flipcard\",\"game\",\"google\",\"gpya\",\"hotstar\",\"instagram\",\"internet\",\"irctc\",\"maps\",\"meet\",\"massages\",\"oyo\",\"phone\",\"photos\",\"realme\",\"uber\",\"videos\",\"whatsapp\",\"weather\",\"youtube\"]\n",
    "i=a.count(\"cred\")\n",
    "print(i)"
   ]
  },
  {
   "cell_type": "code",
   "execution_count": 12,
   "metadata": {},
   "outputs": [
    {
     "name": "stdout",
     "output_type": "stream",
     "text": [
      "['ajio', 'axis bank', 'calcuator', 'calender', 'camra', 'chromr', 'clock', 'cpmpass', 'contacts', 'cred', 'entri', 'facebook', 'flipcard', 'game', 'google', 'gpya', 'hotstar', 'instagram', 'internet', 'irctc', 'maps', 'meet', 'massages', 'oyo', 'phone', 'photos', 'realme', 'uber', 'videos', 'whatsapp', 'weather', 'youtube']\n"
     ]
    }
   ],
   "source": [
    "a=[\"ajio\",\"axis bank\",\"calcuator\",\"calender\",\"camra\",\"chromr\",\"clock\",\"cpmpass\",\"contacts\",\"cred\",\"entri\",\"facebook\",\"flipcard\",\"game\",\"google\",\"gpya\",\"hotstar\",\"instagram\",\"internet\",\"irctc\",\"maps\",\"meet\",\"massages\",\"oyo\",\"phone\",\"photos\",\"realme\",\"uber\",\"videos\",\"whatsapp\",\"weather\",\"youtube\"]\n",
    "a.copy()\n",
    "print(a)"
   ]
  },
  {
   "cell_type": "code",
   "execution_count": 13,
   "metadata": {},
   "outputs": [
    {
     "name": "stdout",
     "output_type": "stream",
     "text": [
      "['ajio', 'axis bank', 'calcuator', 'calender', 'camra', 'chromr', 'clock', 'cpmpass', 'contacts', 'cred', 'entri', 'facebook', 'flipcard', 'game', 'google', 'gpya', 'hotstar', 'instagram', 'internet', 'irctc', 'maps', 'meet', 'massages', 'oyo', 'phone', 'photos', 'realme', 'uber', 'videos', 'whatsapp', 'weather', 'youtube', 'sumit', 'akash', 'madhu', 'shivam', 'neeraj', 'shiv', 'shubham', 'yashi', 'sapna', 'rohit', 'mohit', 'renu', 'amit', 'vikash', 'ballu', 'raju', 'meenu', 'saket', 'vinod', 'divyanshu']\n"
     ]
    }
   ],
   "source": [
    "a=[\"ajio\",\"axis bank\",\"calcuator\",\"calender\",\"camra\",\"chromr\",\"clock\",\"cpmpass\",\"contacts\",\"cred\",\"entri\",\"facebook\",\"flipcard\",\"game\",\"google\",\"gpya\",\"hotstar\",\"instagram\",\"internet\",\"irctc\",\"maps\",\"meet\",\"massages\",\"oyo\",\"phone\",\"photos\",\"realme\",\"uber\",\"videos\",\"whatsapp\",\"weather\",\"youtube\"]\n",
    "b=[\"sumit\",\"akash\",\"madhu\",\"shivam\",\"neeraj\",\"shiv\",\"shubham\",\"yashi\",\"sapna\",\"rohit\",\"mohit\",\"renu\",\"amit\",\"vikash\",\"ballu\",\"raju\",\"meenu\",\"saket\",\"vinod\",\"divyanshu\"]\n",
    "a.extend(b)\n",
    "print(a)"
   ]
  },
  {
   "cell_type": "code",
   "execution_count": 14,
   "metadata": {},
   "outputs": [
    {
     "name": "stdout",
     "output_type": "stream",
     "text": [
      "[]\n"
     ]
    }
   ],
   "source": [
    "b=[\"sumit\",\"akash\",\"madhu\",\"shivam\",\"neeraj\",\"shiv\",\"shubham\",\"yashi\",\"sapna\",\"rohit\",\"mohit\",\"renu\",\"amit\",\"vikash\",\"ballu\",\"raju\",\"meenu\",\"saket\",\"vinod\",\"divyanshu\"]\n",
    "b.clear()\n",
    "print(b)"
   ]
  },
  {
   "cell_type": "code",
   "execution_count": 15,
   "metadata": {},
   "outputs": [
    {
     "name": "stdout",
     "output_type": "stream",
     "text": [
      "39\n"
     ]
    }
   ],
   "source": [
    "a=['ajio', 'axis bank', 'calcuator', 'calender', 'camra', 'chromr', 'clock', 'cpmpass', 'contacts', 'cred', 'entri', 'facebook', 'flipcard', 'game', 'google', 'gpya', 'hotstar', 'instagram', 'internet', 'irctc', 'maps', 'meet', 'massages', 'oyo', 'phone', 'photos', 'realme', 'uber', 'videos', 'whatsapp', 'weather', 'youtube', 'sumit', 'akash', 'madhu', 'shivam', 'neeraj', 'shiv', 'shubham', 'yashi', 'sapna', 'rohit', 'mohit', 'renu', 'amit', 'vikash', 'ballu', 'raju', 'meenu', 'saket', 'vinod', 'divyanshu']\n",
    "x=a.index(\"yashi\")\n",
    "print(x)"
   ]
  },
  {
   "cell_type": "code",
   "execution_count": 19,
   "metadata": {},
   "outputs": [
    {
     "name": "stdout",
     "output_type": "stream",
     "text": [
      "55\n"
     ]
    }
   ],
   "source": [
    "s=[1,2,3,4,5,6,7,8,9,10]\n",
    "y=sum(s)\n",
    "print(y)"
   ]
  },
  {
   "cell_type": "code",
   "execution_count": 22,
   "metadata": {},
   "outputs": [
    {
     "name": "stdout",
     "output_type": "stream",
     "text": [
      "98547\n"
     ]
    }
   ],
   "source": [
    "s=[15,89,65,75,35,45,85,21,71,654,852,256,9854,58742,25874,98547,999]\n",
    "z=max(s)\n",
    "print(z)"
   ]
  },
  {
   "cell_type": "code",
   "execution_count": 21,
   "metadata": {},
   "outputs": [
    {
     "name": "stdout",
     "output_type": "stream",
     "text": [
      "15\n"
     ]
    }
   ],
   "source": [
    "s=[15,89,65,75,35,45,85,21,71,654,852,256,9854,58742,25874,98547,999]\n",
    "x=min(s)\n",
    "print(x)\n"
   ]
  }
 ],
 "metadata": {
  "kernelspec": {
   "display_name": "base",
   "language": "python",
   "name": "python3"
  },
  "language_info": {
   "codemirror_mode": {
    "name": "ipython",
    "version": 3
   },
   "file_extension": ".py",
   "mimetype": "text/x-python",
   "name": "python",
   "nbconvert_exporter": "python",
   "pygments_lexer": "ipython3",
   "version": "3.10.10"
  },
  "orig_nbformat": 4
 },
 "nbformat": 4,
 "nbformat_minor": 2
}
