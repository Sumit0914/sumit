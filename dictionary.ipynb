{
 "cells": [
  {
   "cell_type": "code",
   "execution_count": 17,
   "metadata": {},
   "outputs": [],
   "source": [
    "students = {\n",
    "    \"maulik\" :{\n",
    "        \"college\" : \"MU\",\n",
    "        \"type\" : \"offline\"\n",
    "    },\n",
    "    \"aman\" : \"NPGC\",\n",
    "    \"abhay\" : \"NPGC\",\n",
    "    \"mazahir\" : \"AU\",\n",
    "    \"LMADUL\" : \"IU\",\n",
    "    \"prashutosh\" : \"SHUATS\",\n",
    "    \"shoeb\" : {\n",
    "        \"collage\" : \"IET\",\n",
    "        \"type\" : \"online\"\n",
    "    },\n",
    "    \"mandavi\" : {\n",
    "        \"college\" : \"HNBGU\",\n",
    "        \"type\" : \"ONLINE\"\n",
    "    }\n",
    "}"
   ]
  },
  {
   "cell_type": "code",
   "execution_count": 13,
   "metadata": {},
   "outputs": [
    {
     "name": "stdout",
     "output_type": "stream",
     "text": [
      "{'maulik': {'college': 'MU', 'type': 'offline'}, 'aman': 'NPGC', 'abhay': 'NPGC', 'mazahir': 'AU', 'LMADUL': 'IU', 'prashutosh': 'SHUATS', 'shoeb': {'collage': 'IET', 'type': 'online'}, 'mandavi': {'college': 'HNBGU', 'TYPE': 'ONLINE'}}\n"
     ]
    }
   ],
   "source": [
    "print(students)"
   ]
  },
  {
   "cell_type": "code",
   "execution_count": 14,
   "metadata": {},
   "outputs": [],
   "source": [
    "from pprint import pp"
   ]
  },
  {
   "cell_type": "code",
   "execution_count": 15,
   "metadata": {},
   "outputs": [
    {
     "name": "stdout",
     "output_type": "stream",
     "text": [
      "{'maulik': {'college': 'MU', 'type': 'offline'},\n",
      " 'aman': 'NPGC',\n",
      " 'abhay': 'NPGC',\n",
      " 'mazahir': 'AU',\n",
      " 'LMADUL': 'IU',\n",
      " 'prashutosh': 'SHUATS',\n",
      " 'shoeb': {'collage': 'IET', 'type': 'online'},\n",
      " 'mandavi': {'college': 'HNBGU', 'TYPE': 'ONLINE'}}\n"
     ]
    }
   ],
   "source": [
    "pp(students)"
   ]
  },
  {
   "cell_type": "code",
   "execution_count": 18,
   "metadata": {},
   "outputs": [
    {
     "data": {
      "text/plain": [
       "'ONLINE'"
      ]
     },
     "execution_count": 18,
     "metadata": {},
     "output_type": "execute_result"
    }
   ],
   "source": [
    "students[\"mandavi\"][\"type\"]"
   ]
  },
  {
   "cell_type": "code",
   "execution_count": 20,
   "metadata": {},
   "outputs": [],
   "source": [
    "students[\"sumit\"]={\n",
    "    \"college\" : \"D.P. VERMA\",\n",
    "    \"TYPE\" : \"OFLINE\"\n",
    "}"
   ]
  },
  {
   "cell_type": "code",
   "execution_count": 21,
   "metadata": {},
   "outputs": [
    {
     "name": "stdout",
     "output_type": "stream",
     "text": [
      "{'maulik': {'college': 'MU', 'type': 'offline'},\n",
      " 'aman': 'NPGC',\n",
      " 'abhay': 'NPGC',\n",
      " 'mazahir': 'AU',\n",
      " 'LMADUL': 'IU',\n",
      " 'prashutosh': 'SHUATS',\n",
      " 'shoeb': {'collage': 'IET', 'type': 'online'},\n",
      " 'mandavi': {'college': 'HNBGU', 'type': 'ONLINE'},\n",
      " 'sumit': {'college': 'D.P. VERMA', 'TYPE': 'OFLINE'}}\n"
     ]
    }
   ],
   "source": [
    "pp(students)"
   ]
  },
  {
   "cell_type": "code",
   "execution_count": 22,
   "metadata": {},
   "outputs": [
    {
     "name": "stdout",
     "output_type": "stream",
     "text": [
      "{'maulik': {'college': 'MU',\n",
      "            'type': 'offline'},\n",
      " 'aman': 'NPGC',\n",
      " 'abhay': 'NPGC',\n",
      " 'mazahir': 'AU',\n",
      " 'LMADUL': 'IU',\n",
      " 'prashutosh': 'SHUATS',\n",
      " 'shoeb': {'collage': 'IET',\n",
      "           'type': 'online'},\n",
      " 'mandavi': {'college': 'HNBGU',\n",
      "             'type': 'ONLINE'},\n",
      " 'sumit': {'college': 'D.P. '\n",
      "                      'VERMA',\n",
      "           'TYPE': 'OFLINE'}}\n"
     ]
    }
   ],
   "source": [
    "pp(students , width=20)"
   ]
  },
  {
   "cell_type": "code",
   "execution_count": 26,
   "metadata": {},
   "outputs": [
    {
     "name": "stdout",
     "output_type": "stream",
     "text": [
      "{'maulik': {'college': 'MU', 'type': 'offline'},\n",
      " 'aman': 'NPGC',\n",
      " 'abhay': 'NPGC',\n",
      " 'mazahir': 'AU',\n",
      " 'LMADUL': 'IU',\n",
      " 'prashutosh': 'SHUATS',\n",
      " 'shoeb': {'collage': 'IET', 'type': 'flexi'},\n",
      " 'mandavi': {'college': 'HNBGU', 'type': 'ONLINE'},\n",
      " 'sumit': {'college': 'D.P. VERMA', 'TYPE': 'OFLINE'}}\n"
     ]
    }
   ],
   "source": [
    "students[\"shoeb\"][\"type\"] = \"flexi\"\n",
    "\n",
    "pp(students)"
   ]
  },
  {
   "cell_type": "code",
   "execution_count": 27,
   "metadata": {},
   "outputs": [
    {
     "data": {
      "text/plain": [
       "'NPGC'"
      ]
     },
     "execution_count": 27,
     "metadata": {},
     "output_type": "execute_result"
    }
   ],
   "source": [
    "students.pop(\"abhay\")"
   ]
  },
  {
   "cell_type": "code",
   "execution_count": 28,
   "metadata": {},
   "outputs": [
    {
     "name": "stdout",
     "output_type": "stream",
     "text": [
      "{'maulik': {'college': 'MU', 'type': 'offline'},\n",
      " 'aman': 'NPGC',\n",
      " 'mazahir': 'AU',\n",
      " 'LMADUL': 'IU',\n",
      " 'prashutosh': 'SHUATS',\n",
      " 'shoeb': {'collage': 'IET', 'type': 'flexi'},\n",
      " 'mandavi': {'college': 'HNBGU', 'type': 'ONLINE'},\n",
      " 'sumit': {'college': 'D.P. VERMA', 'TYPE': 'OFLINE'}}\n"
     ]
    }
   ],
   "source": [
    "pp(students)"
   ]
  },
  {
   "cell_type": "code",
   "execution_count": 29,
   "metadata": {},
   "outputs": [],
   "source": [
    "report = {\n",
    "    \"class10\" : {\n",
    "        \"rohan\" :{\n",
    "            \"english\" : 90,\n",
    "            \"maths\" : 95,\n",
    "            \"hindi\" : 85,\n",
    "            \"science\" : 95,\n",
    "            \"social\" : 95,\n",
    "            \"p.e.\" : 95,\n",
    "        },\n",
    "        \"mohat\" : {\n",
    "             \"english\" : 90,\n",
    "            \"maths\" : 95,\n",
    "            \"hindi\" : 75,\n",
    "            \"science\" : 95,\n",
    "            \"social\" : 65,\n",
    "            \"p.e.\" : 95,\n",
    "        },\n",
    "        \"shreya\" : {\n",
    "             \"english\" : 70,\n",
    "            \"maths\" : 95,\n",
    "            \"hindi\" : 75,\n",
    "            \"science\" : 95,\n",
    "            \"social\" : 55,\n",
    "            \"p.e.\" : 95,\n",
    "        },\n",
    "        \"shubham\" : {\n",
    "             \"english\" : 70,\n",
    "            \"maths\" : 65,\n",
    "            \"hindi\" : 85,\n",
    "            \"science\" : 55,\n",
    "            \"social\" : 65,\n",
    "            \"p.e.\" : 95,\n",
    "        },\n",
    "        \"shruti\" : {\n",
    "             \"english\" : 70,\n",
    "            \"maths\" : 55,\n",
    "            \"hindi\" : 65,\n",
    "            \"science\" : 95,\n",
    "            \"social\" : 45,\n",
    "            \"p.e.\" : 55,\n",
    "        },\n",
    "        \"alex\" : {\n",
    "             \"english\" : 80,\n",
    "            \"maths\" : 45,\n",
    "            \"hindi\" : 65,\n",
    "            \"science\" : 95,\n",
    "            \"social\" : 75,\n",
    "            \"p.e.\" : 95,\n",
    "        },\n",
    "    }\n",
    "}"
   ]
  },
  {
   "cell_type": "code",
   "execution_count": 30,
   "metadata": {},
   "outputs": [
    {
     "name": "stdout",
     "output_type": "stream",
     "text": [
      "{'class10': {'rohan': {'english': 90,\n",
      "                       'maths': 95,\n",
      "                       'hindi': 85,\n",
      "                       'science': 95,\n",
      "                       'social': 95,\n",
      "                       'p.e.': 95},\n",
      "             'mohat': {'english': 90,\n",
      "                       'maths': 95,\n",
      "                       'hindi': 75,\n",
      "                       'science': 95,\n",
      "                       'social': 65,\n",
      "                       'p.e.': 95},\n",
      "             'shreya': {'english': 70,\n",
      "                        'maths': 95,\n",
      "                        'hindi': 75,\n",
      "                        'science': 95,\n",
      "                        'social': 55,\n",
      "                        'p.e.': 95},\n",
      "             'shubham': {'english': 70,\n",
      "                         'maths': 65,\n",
      "                         'hindi': 85,\n",
      "                         'science': 55,\n",
      "                         'social': 65,\n",
      "                         'p.e.': 95},\n",
      "             'shruti': {'english': 70,\n",
      "                        'maths': 55,\n",
      "                        'hindi': 65,\n",
      "                        'science': 95,\n",
      "                        'social': 45,\n",
      "                        'p.e.': 55},\n",
      "             'alex': {'english': 80,\n",
      "                      'maths': 45,\n",
      "                      'hindi': 65,\n",
      "                      'science': 95,\n",
      "                      'social': 75,\n",
      "                      'p.e.': 95}}}\n"
     ]
    }
   ],
   "source": [
    "pp(report)"
   ]
  },
  {
   "cell_type": "code",
   "execution_count": null,
   "metadata": {},
   "outputs": [],
   "source": []
  }
 ],
 "metadata": {
  "kernelspec": {
   "display_name": "base",
   "language": "python",
   "name": "python3"
  },
  "language_info": {
   "codemirror_mode": {
    "name": "ipython",
    "version": 3
   },
   "file_extension": ".py",
   "mimetype": "text/x-python",
   "name": "python",
   "nbconvert_exporter": "python",
   "pygments_lexer": "ipython3",
   "version": "3.10.10"
  },
  "orig_nbformat": 4
 },
 "nbformat": 4,
 "nbformat_minor": 2
}
