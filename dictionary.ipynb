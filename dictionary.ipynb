{
 "cells": [
  {
   "cell_type": "code",
   "execution_count": 64,
   "metadata": {},
   "outputs": [],
   "source": [
    "students = {\n",
    "    \"maulik\" :{\n",
    "        \"college\" : \"MU\",\n",
    "        \"type\" : \"offline\"\n",
    "    },\n",
    "    \"aman\" : \"NPGC\",\n",
    "    \"abhay\" : \"NPGC\",\n",
    "    \"mazahir\" : \"AU\",\n",
    "    \"LMADUL\" : \"IU\",\n",
    "    \"prashutosh\" : \"SHUATS\",\n",
    "    \"shoeb\" : {\n",
    "        \"collage\" : \"IET\",\n",
    "        \"type\" : \"online\"\n",
    "    },\n",
    "    \"mandavi\" : {\n",
    "        \"college\" : \"HNBGU\",\n",
    "        \"type\" : \"ONLINE\"\n",
    "    }\n",
    "}"
   ]
  },
  {
   "cell_type": "code",
   "execution_count": 65,
   "metadata": {},
   "outputs": [
    {
     "name": "stdout",
     "output_type": "stream",
     "text": [
      "{'maulik': {'college': 'MU', 'type': 'offline'}, 'aman': 'NPGC', 'abhay': 'NPGC', 'mazahir': 'AU', 'LMADUL': 'IU', 'prashutosh': 'SHUATS', 'shoeb': {'collage': 'IET', 'type': 'online'}, 'mandavi': {'college': 'HNBGU', 'type': 'ONLINE'}}\n"
     ]
    }
   ],
   "source": [
    "print(students)"
   ]
  },
  {
   "cell_type": "code",
   "execution_count": 66,
   "metadata": {},
   "outputs": [],
   "source": [
    "from pprint import pp"
   ]
  },
  {
   "cell_type": "code",
   "execution_count": 67,
   "metadata": {},
   "outputs": [
    {
     "name": "stdout",
     "output_type": "stream",
     "text": [
      "{'maulik': {'college': 'MU', 'type': 'offline'},\n",
      " 'aman': 'NPGC',\n",
      " 'abhay': 'NPGC',\n",
      " 'mazahir': 'AU',\n",
      " 'LMADUL': 'IU',\n",
      " 'prashutosh': 'SHUATS',\n",
      " 'shoeb': {'collage': 'IET', 'type': 'online'},\n",
      " 'mandavi': {'college': 'HNBGU', 'type': 'ONLINE'}}\n"
     ]
    }
   ],
   "source": [
    "pp(students)"
   ]
  },
  {
   "cell_type": "code",
   "execution_count": 68,
   "metadata": {},
   "outputs": [
    {
     "data": {
      "text/plain": [
       "'ONLINE'"
      ]
     },
     "execution_count": 68,
     "metadata": {},
     "output_type": "execute_result"
    }
   ],
   "source": [
    "students[\"mandavi\"][\"type\"]"
   ]
  },
  {
   "cell_type": "code",
   "execution_count": 69,
   "metadata": {},
   "outputs": [],
   "source": [
    "students[\"sumit\"]={\n",
    "    \"college\" : \"D.P. VERMA\",\n",
    "    \"TYPE\" : \"OFLINE\"\n",
    "}"
   ]
  },
  {
   "cell_type": "code",
   "execution_count": 70,
   "metadata": {},
   "outputs": [
    {
     "name": "stdout",
     "output_type": "stream",
     "text": [
      "{'maulik': {'college': 'MU', 'type': 'offline'},\n",
      " 'aman': 'NPGC',\n",
      " 'abhay': 'NPGC',\n",
      " 'mazahir': 'AU',\n",
      " 'LMADUL': 'IU',\n",
      " 'prashutosh': 'SHUATS',\n",
      " 'shoeb': {'collage': 'IET', 'type': 'online'},\n",
      " 'mandavi': {'college': 'HNBGU', 'type': 'ONLINE'},\n",
      " 'sumit': {'college': 'D.P. VERMA', 'TYPE': 'OFLINE'}}\n"
     ]
    }
   ],
   "source": [
    "pp(students)"
   ]
  },
  {
   "cell_type": "code",
   "execution_count": 71,
   "metadata": {},
   "outputs": [
    {
     "name": "stdout",
     "output_type": "stream",
     "text": [
      "{'maulik': {'college': 'MU',\n",
      "            'type': 'offline'},\n",
      " 'aman': 'NPGC',\n",
      " 'abhay': 'NPGC',\n",
      " 'mazahir': 'AU',\n",
      " 'LMADUL': 'IU',\n",
      " 'prashutosh': 'SHUATS',\n",
      " 'shoeb': {'collage': 'IET',\n",
      "           'type': 'online'},\n",
      " 'mandavi': {'college': 'HNBGU',\n",
      "             'type': 'ONLINE'},\n",
      " 'sumit': {'college': 'D.P. '\n",
      "                      'VERMA',\n",
      "           'TYPE': 'OFLINE'}}\n"
     ]
    }
   ],
   "source": [
    "pp(students , width=20)"
   ]
  },
  {
   "cell_type": "code",
   "execution_count": 72,
   "metadata": {},
   "outputs": [
    {
     "name": "stdout",
     "output_type": "stream",
     "text": [
      "{'maulik': {'college': 'MU', 'type': 'offline'},\n",
      " 'aman': 'NPGC',\n",
      " 'abhay': 'NPGC',\n",
      " 'mazahir': 'AU',\n",
      " 'LMADUL': 'IU',\n",
      " 'prashutosh': 'SHUATS',\n",
      " 'shoeb': {'collage': 'IET', 'type': 'flexi'},\n",
      " 'mandavi': {'college': 'HNBGU', 'type': 'ONLINE'},\n",
      " 'sumit': {'college': 'D.P. VERMA', 'TYPE': 'OFLINE'}}\n"
     ]
    }
   ],
   "source": [
    "students[\"shoeb\"][\"type\"] = \"flexi\"\n",
    "\n",
    "pp(students)"
   ]
  },
  {
   "cell_type": "code",
   "execution_count": 73,
   "metadata": {},
   "outputs": [
    {
     "data": {
      "text/plain": [
       "'NPGC'"
      ]
     },
     "execution_count": 73,
     "metadata": {},
     "output_type": "execute_result"
    }
   ],
   "source": [
    "students.pop(\"abhay\")"
   ]
  },
  {
   "cell_type": "code",
   "execution_count": 74,
   "metadata": {},
   "outputs": [
    {
     "name": "stdout",
     "output_type": "stream",
     "text": [
      "{'maulik': {'college': 'MU', 'type': 'offline'},\n",
      " 'aman': 'NPGC',\n",
      " 'mazahir': 'AU',\n",
      " 'LMADUL': 'IU',\n",
      " 'prashutosh': 'SHUATS',\n",
      " 'shoeb': {'collage': 'IET', 'type': 'flexi'},\n",
      " 'mandavi': {'college': 'HNBGU', 'type': 'ONLINE'},\n",
      " 'sumit': {'college': 'D.P. VERMA', 'TYPE': 'OFLINE'}}\n"
     ]
    }
   ],
   "source": [
    "pp(students)"
   ]
  },
  {
   "cell_type": "code",
   "execution_count": 75,
   "metadata": {},
   "outputs": [],
   "source": [
    "report = {\n",
    "    \"class10\" : {\n",
    "        \"rohan\" :{\n",
    "            \"english\" : 90,\n",
    "            \"maths\" : 95,\n",
    "            \"hindi\" : 85,\n",
    "            \"science\" : 95,\n",
    "            \"social\" : 95,\n",
    "            \"p.e.\" : 95,\n",
    "        },\n",
    "        \"mohat\" : {\n",
    "             \"english\" : 90,\n",
    "            \"maths\" : 95,\n",
    "            \"hindi\" : 75,\n",
    "            \"science\" : 95,\n",
    "            \"social\" : 65,\n",
    "            \"p.e.\" : 95,\n",
    "        },\n",
    "        \"shreya\" : {\n",
    "             \"english\" : 70,\n",
    "            \"maths\" : 95,\n",
    "            \"hindi\" : 75,\n",
    "            \"science\" : 95,\n",
    "            \"social\" : 55,\n",
    "            \"p.e.\" : 95,\n",
    "        },\n",
    "        \"shubham\" : {\n",
    "             \"english\" : 70,\n",
    "            \"maths\" : 65,\n",
    "            \"hindi\" : 85,\n",
    "            \"science\" : 55,\n",
    "            \"social\" : 65,\n",
    "            \"p.e.\" : 95,\n",
    "        },\n",
    "        \"shruti\" : {\n",
    "             \"english\" : 70,\n",
    "            \"maths\" : 55,\n",
    "            \"hindi\" : 65,\n",
    "            \"science\" : 95,\n",
    "            \"social\" : 45,\n",
    "            \"p.e.\" : 55,\n",
    "        },\n",
    "        \"alex\" : {\n",
    "             \"english\" : 80,\n",
    "            \"maths\" : 45,\n",
    "            \"hindi\" : 65,\n",
    "            \"science\" : 95,\n",
    "            \"social\" : 75,\n",
    "            \"p.e.\" : 95,\n",
    "        },\n",
    "    }\n",
    "}"
   ]
  },
  {
   "cell_type": "code",
   "execution_count": 76,
   "metadata": {},
   "outputs": [
    {
     "name": "stdout",
     "output_type": "stream",
     "text": [
      "{'class10': {'rohan': {'english': 90,\n",
      "                       'maths': 95,\n",
      "                       'hindi': 85,\n",
      "                       'science': 95,\n",
      "                       'social': 95,\n",
      "                       'p.e.': 95},\n",
      "             'mohat': {'english': 90,\n",
      "                       'maths': 95,\n",
      "                       'hindi': 75,\n",
      "                       'science': 95,\n",
      "                       'social': 65,\n",
      "                       'p.e.': 95},\n",
      "             'shreya': {'english': 70,\n",
      "                        'maths': 95,\n",
      "                        'hindi': 75,\n",
      "                        'science': 95,\n",
      "                        'social': 55,\n",
      "                        'p.e.': 95},\n",
      "             'shubham': {'english': 70,\n",
      "                         'maths': 65,\n",
      "                         'hindi': 85,\n",
      "                         'science': 55,\n",
      "                         'social': 65,\n",
      "                         'p.e.': 95},\n",
      "             'shruti': {'english': 70,\n",
      "                        'maths': 55,\n",
      "                        'hindi': 65,\n",
      "                        'science': 95,\n",
      "                        'social': 45,\n",
      "                        'p.e.': 55},\n",
      "             'alex': {'english': 80,\n",
      "                      'maths': 45,\n",
      "                      'hindi': 65,\n",
      "                      'science': 95,\n",
      "                      'social': 75,\n",
      "                      'p.e.': 95}}}\n"
     ]
    }
   ],
   "source": [
    "pp(report)"
   ]
  },
  {
   "cell_type": "code",
   "execution_count": 77,
   "metadata": {},
   "outputs": [
    {
     "name": "stdout",
     "output_type": "stream",
     "text": [
      "dict_keys(['class10'])\n"
     ]
    }
   ],
   "source": [
    "print(report.keys())"
   ]
  },
  {
   "cell_type": "code",
   "execution_count": 78,
   "metadata": {},
   "outputs": [
    {
     "data": {
      "text/plain": [
       "dict_keys(['rohan', 'mohat', 'shreya', 'shubham', 'shruti', 'alex'])"
      ]
     },
     "execution_count": 78,
     "metadata": {},
     "output_type": "execute_result"
    }
   ],
   "source": [
    "report[\"class10\"].keys()"
   ]
  },
  {
   "cell_type": "code",
   "execution_count": 79,
   "metadata": {},
   "outputs": [
    {
     "data": {
      "text/plain": [
       "dict_keys(['english', 'maths', 'hindi', 'science', 'social', 'p.e.'])"
      ]
     },
     "execution_count": 79,
     "metadata": {},
     "output_type": "execute_result"
    }
   ],
   "source": [
    "report[\"class10\"][\"rohan\"].keys()"
   ]
  },
  {
   "cell_type": "code",
   "execution_count": 80,
   "metadata": {},
   "outputs": [
    {
     "data": {
      "text/plain": [
       "90"
      ]
     },
     "execution_count": 80,
     "metadata": {},
     "output_type": "execute_result"
    }
   ],
   "source": [
    "report['class10'][\"rohan\"][\"english\"]"
   ]
  },
  {
   "cell_type": "code",
   "execution_count": 81,
   "metadata": {},
   "outputs": [
    {
     "data": {
      "text/plain": [
       "dict_values([{'rohan': {'english': 90, 'maths': 95, 'hindi': 85, 'science': 95, 'social': 95, 'p.e.': 95}, 'mohat': {'english': 90, 'maths': 95, 'hindi': 75, 'science': 95, 'social': 65, 'p.e.': 95}, 'shreya': {'english': 70, 'maths': 95, 'hindi': 75, 'science': 95, 'social': 55, 'p.e.': 95}, 'shubham': {'english': 70, 'maths': 65, 'hindi': 85, 'science': 55, 'social': 65, 'p.e.': 95}, 'shruti': {'english': 70, 'maths': 55, 'hindi': 65, 'science': 95, 'social': 45, 'p.e.': 55}, 'alex': {'english': 80, 'maths': 45, 'hindi': 65, 'science': 95, 'social': 75, 'p.e.': 95}}])"
      ]
     },
     "execution_count": 81,
     "metadata": {},
     "output_type": "execute_result"
    }
   ],
   "source": [
    "report.values()"
   ]
  },
  {
   "cell_type": "code",
   "execution_count": 82,
   "metadata": {},
   "outputs": [
    {
     "data": {
      "text/plain": [
       "dict_values([{'english': 90, 'maths': 95, 'hindi': 85, 'science': 95, 'social': 95, 'p.e.': 95}, {'english': 90, 'maths': 95, 'hindi': 75, 'science': 95, 'social': 65, 'p.e.': 95}, {'english': 70, 'maths': 95, 'hindi': 75, 'science': 95, 'social': 55, 'p.e.': 95}, {'english': 70, 'maths': 65, 'hindi': 85, 'science': 55, 'social': 65, 'p.e.': 95}, {'english': 70, 'maths': 55, 'hindi': 65, 'science': 95, 'social': 45, 'p.e.': 55}, {'english': 80, 'maths': 45, 'hindi': 65, 'science': 95, 'social': 75, 'p.e.': 95}])"
      ]
     },
     "execution_count": 82,
     "metadata": {},
     "output_type": "execute_result"
    }
   ],
   "source": [
    "report[\"class10\"].values()"
   ]
  },
  {
   "cell_type": "code",
   "execution_count": 83,
   "metadata": {},
   "outputs": [
    {
     "data": {
      "text/plain": [
       "{'class10': {'rohan': {'english': 90,\n",
       "   'maths': 95,\n",
       "   'hindi': 85,\n",
       "   'science': 95,\n",
       "   'social': 95,\n",
       "   'p.e.': 95},\n",
       "  'mohat': {'english': 90,\n",
       "   'maths': 95,\n",
       "   'hindi': 75,\n",
       "   'science': 95,\n",
       "   'social': 65,\n",
       "   'p.e.': 95},\n",
       "  'shreya': {'english': 70,\n",
       "   'maths': 95,\n",
       "   'hindi': 75,\n",
       "   'science': 95,\n",
       "   'social': 55,\n",
       "   'p.e.': 95},\n",
       "  'shubham': {'english': 70,\n",
       "   'maths': 65,\n",
       "   'hindi': 85,\n",
       "   'science': 55,\n",
       "   'social': 65,\n",
       "   'p.e.': 95},\n",
       "  'shruti': {'english': 70,\n",
       "   'maths': 55,\n",
       "   'hindi': 65,\n",
       "   'science': 95,\n",
       "   'social': 45,\n",
       "   'p.e.': 55},\n",
       "  'alex': {'english': 80,\n",
       "   'maths': 45,\n",
       "   'hindi': 65,\n",
       "   'science': 95,\n",
       "   'social': 75,\n",
       "   'p.e.': 95}}}"
      ]
     },
     "execution_count": 83,
     "metadata": {},
     "output_type": "execute_result"
    }
   ],
   "source": [
    "report"
   ]
  },
  {
   "cell_type": "code",
   "execution_count": 84,
   "metadata": {},
   "outputs": [],
   "source": [
    "movies ={\n",
    "    \"3 idiots\" : \"a story abour 3 idiot frds\",\n",
    "    \"lunchbox\" : \"a story about a lunchbox\",\n",
    "    \"dangal\" : \"a story abhout a wrestler\",\n",
    "    \"pk\" : \"a story about an alien\",\n",
    "    \"taare zameen par\" : \"a story abhout a dyslexicchild\",\n",
    "}"
   ]
  },
  {
   "cell_type": "code",
   "execution_count": 85,
   "metadata": {},
   "outputs": [
    {
     "data": {
      "text/plain": [
       "dict_items([('3 idiots', 'a story abour 3 idiot frds'), ('lunchbox', 'a story about a lunchbox'), ('dangal', 'a story abhout a wrestler'), ('pk', 'a story about an alien'), ('taare zameen par', 'a story abhout a dyslexicchild')])"
      ]
     },
     "execution_count": 85,
     "metadata": {},
     "output_type": "execute_result"
    }
   ],
   "source": [
    "movies.items()"
   ]
  },
  {
   "cell_type": "code",
   "execution_count": 86,
   "metadata": {},
   "outputs": [
    {
     "name": "stdout",
     "output_type": "stream",
     "text": [
      "3 idiots a story abour 3 idiot frds\n",
      "lunchbox a story about a lunchbox\n",
      "dangal a story abhout a wrestler\n",
      "pk a story about an alien\n",
      "taare zameen par a story abhout a dyslexicchild\n"
     ]
    }
   ],
   "source": [
    "for k, v in movies.items():\n",
    "    print(k, v)"
   ]
  },
  {
   "cell_type": "code",
   "execution_count": 87,
   "metadata": {},
   "outputs": [
    {
     "name": "stdout",
     "output_type": "stream",
     "text": [
      "3 idiots                       a story abour 3 idiot frds\n",
      "lunchbox                       a story about a lunchbox\n",
      "dangal                         a story abhout a wrestler\n",
      "pk                             a story about an alien\n",
      "taare zameen par               a story abhout a dyslexicchild\n"
     ]
    }
   ],
   "source": [
    "for k, v in movies.items():\n",
    "    print(f\"{k:30} {v}\")\n"
   ]
  },
  {
   "cell_type": "code",
   "execution_count": 88,
   "metadata": {},
   "outputs": [
    {
     "data": {
      "text/plain": [
       "True"
      ]
     },
     "execution_count": 88,
     "metadata": {},
     "output_type": "execute_result"
    }
   ],
   "source": [
    "isinstance(report[\"class10\"],dict)  # verify if th object is a data type"
   ]
  },
  {
   "cell_type": "code",
   "execution_count": 91,
   "metadata": {},
   "outputs": [
    {
     "name": "stdout",
     "output_type": "stream",
     "text": [
      "class10\n",
      "-> rohan\n",
      "-> english = 90\n",
      "-> maths = 95\n",
      "-> hindi = 85\n",
      "-> science = 95\n",
      "-> social = 95\n",
      "-> p.e. = 95\n",
      "-> mohat\n",
      "-> english = 90\n",
      "-> maths = 95\n",
      "-> hindi = 75\n",
      "-> science = 95\n",
      "-> social = 65\n",
      "-> p.e. = 95\n",
      "-> shreya\n",
      "-> english = 70\n",
      "-> maths = 95\n",
      "-> hindi = 75\n",
      "-> science = 95\n",
      "-> social = 55\n",
      "-> p.e. = 95\n",
      "-> shubham\n",
      "-> english = 70\n",
      "-> maths = 65\n",
      "-> hindi = 85\n",
      "-> science = 55\n",
      "-> social = 65\n",
      "-> p.e. = 95\n",
      "-> shruti\n",
      "-> english = 70\n",
      "-> maths = 55\n",
      "-> hindi = 65\n",
      "-> science = 95\n",
      "-> social = 45\n",
      "-> p.e. = 55\n",
      "-> alex\n",
      "-> english = 80\n",
      "-> maths = 45\n",
      "-> hindi = 65\n",
      "-> science = 95\n",
      "-> social = 75\n",
      "-> p.e. = 95\n"
     ]
    }
   ],
   "source": [
    "for cls, students in report.items():\n",
    "    print(cls)\n",
    "    if isinstance(students, dict):\n",
    "        for name , subjects in students.items():\n",
    "            print('->',name)\n",
    "            if isinstance(subjects, dict):\n",
    "                for subject, marks in subjects.items():\n",
    "                    print('->',subject,'=',marks)"
   ]
  },
  {
   "cell_type": "code",
   "execution_count": 93,
   "metadata": {},
   "outputs": [
    {
     "name": "stdout",
     "output_type": "stream",
     "text": [
      "class10\n",
      "-> rohan\n",
      "  total-> 90\n",
      "  total-> 185\n",
      "  total-> 270\n",
      "  total-> 365\n",
      "  total-> 460\n",
      "  total-> 555\n",
      "-> mohat\n",
      "  total-> 90\n",
      "  total-> 185\n",
      "  total-> 260\n",
      "  total-> 355\n",
      "  total-> 420\n",
      "  total-> 515\n",
      "-> shreya\n",
      "  total-> 70\n",
      "  total-> 165\n",
      "  total-> 240\n",
      "  total-> 335\n",
      "  total-> 390\n",
      "  total-> 485\n",
      "-> shubham\n",
      "  total-> 70\n",
      "  total-> 135\n",
      "  total-> 220\n",
      "  total-> 275\n",
      "  total-> 340\n",
      "  total-> 435\n",
      "-> shruti\n",
      "  total-> 70\n",
      "  total-> 125\n",
      "  total-> 190\n",
      "  total-> 285\n",
      "  total-> 330\n",
      "  total-> 385\n",
      "-> alex\n",
      "  total-> 80\n",
      "  total-> 125\n",
      "  total-> 190\n",
      "  total-> 285\n",
      "  total-> 360\n",
      "  total-> 455\n"
     ]
    }
   ],
   "source": [
    "for cls, students in report.items():\n",
    "    print(cls)\n",
    "    if isinstance(students, dict):\n",
    "        for name , subjects in students.items():\n",
    "            print('->',name)\n",
    "            if isinstance(subjects, dict):\n",
    "                total = 0 #reset total for each student\n",
    "                for subject, marks in subjects.items():\n",
    "                    total += marks\n",
    "                    print(\"  total->\",total)"
   ]
  },
  {
   "cell_type": "code",
   "execution_count": 95,
   "metadata": {},
   "outputs": [
    {
     "name": "stdout",
     "output_type": "stream",
     "text": [
      "class10\n",
      "-> rohan\n",
      " avg-> 92\n",
      "-> mohat\n",
      " avg-> 85\n",
      "-> shreya\n",
      " avg-> 80\n",
      "-> shubham\n",
      " avg-> 72\n",
      "-> shruti\n",
      " avg-> 64\n",
      "-> alex\n",
      " avg-> 75\n"
     ]
    }
   ],
   "source": [
    "for cls, students in report.items():\n",
    "    print(cls)\n",
    "    if isinstance(students, dict):\n",
    "        for name , subjects in students.items():\n",
    "            print('->',name)\n",
    "            if isinstance(subjects, dict):\n",
    "                total = sum(subjects.values())\n",
    "                print(\" avg->\",total//6)"
   ]
  },
  {
   "cell_type": "code",
   "execution_count": 97,
   "metadata": {},
   "outputs": [
    {
     "name": "stdout",
     "output_type": "stream",
     "text": [
      "class10\n",
      "-> rohan\n",
      " max-> p.e. 95\n",
      "-> mohat\n",
      " max-> p.e. 95\n",
      "-> shreya\n",
      " max-> p.e. 95\n",
      "-> shubham\n",
      " max-> p.e. 95\n",
      "-> shruti\n",
      " max-> p.e. 95\n",
      "-> alex\n",
      " max-> p.e. 95\n"
     ]
    }
   ],
   "source": [
    "for cls, students in report.items():\n",
    "    print(cls)\n",
    "    if isinstance(students, dict):\n",
    "        for name , subjects in students.items():\n",
    "            print('->',name)\n",
    "            if isinstance(subjects, dict):\n",
    "                mm = marks\n",
    "                sub = subject\n",
    "                print(' max->',sub,mm)"
   ]
  },
  {
   "cell_type": "code",
   "execution_count": null,
   "metadata": {},
   "outputs": [],
   "source": []
  }
 ],
 "metadata": {
  "kernelspec": {
   "display_name": "base",
   "language": "python",
   "name": "python3"
  },
  "language_info": {
   "codemirror_mode": {
    "name": "ipython",
    "version": 3
   },
   "file_extension": ".py",
   "mimetype": "text/x-python",
   "name": "python",
   "nbconvert_exporter": "python",
   "pygments_lexer": "ipython3",
   "version": "3.10.10"
  },
  "orig_nbformat": 4
 },
 "nbformat": 4,
 "nbformat_minor": 2
}
