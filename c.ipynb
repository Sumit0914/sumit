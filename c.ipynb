{
 "cells": [
  {
   "cell_type": "code",
   "execution_count": 1,
   "metadata": {},
   "outputs": [
    {
     "name": "stdout",
     "output_type": "stream",
     "text": [
      "a is less than b\n",
      "a is less than c\n",
      "b is less than c\n"
     ]
    }
   ],
   "source": [
    "a=5\n",
    "b=10\n",
    "c=15\n",
    "if a<b:\n",
    "    print(\"a is less than b\")\n",
    "if b<c:\n",
    "    print(\"a is less than c\")\n",
    "if b<a:\n",
    "    print(\"b is less than c\")\n",
    "if b<c:\n",
    "    print(\"b is less than c\")\n",
    "if c<a:\n",
    "    print(\"c is less than a\")\n",
    "if c<b:\n",
    "    print(\"c is less than b\")                    \n",
    "\n",
    "\n"
   ]
  },
  {
   "cell_type": "code",
   "execution_count": 2,
   "metadata": {},
   "outputs": [
    {
     "name": "stdout",
     "output_type": "stream",
     "text": [
      "b is less than c\n"
     ]
    }
   ],
   "source": [
    "a=5\n",
    "b=10\n",
    "c=15\n",
    "if a>b:\n",
    "    print(\"a is less than b\")\n",
    "elif b>c:\n",
    "    print(\"a is less than c\")\n",
    "elif b<a:\n",
    "    print(\"b is less than a\")\n",
    "elif b<c:\n",
    "    print(\"b is less than c\")\n",
    "elif c<a:\n",
    "    print(\"c is less than a\")\n",
    "elif c<b:\n",
    "    print(\"c is less than b\")\n",
    "else:\n",
    "    print(\"xyz\")    "
   ]
  },
  {
   "cell_type": "code",
   "execution_count": 5,
   "metadata": {},
   "outputs": [
    {
     "name": "stdout",
     "output_type": "stream",
     "text": [
      "odd\n"
     ]
    }
   ],
   "source": [
    "x=int(input(\"enter number\"))\n",
    "if x%2==0:\n",
    "    print(\"even\")\n",
    "else:\n",
    "    print(\"odd\")    "
   ]
  },
  {
   "cell_type": "code",
   "execution_count": 8,
   "metadata": {},
   "outputs": [
    {
     "name": "stdout",
     "output_type": "stream",
     "text": [
      "n\n"
     ]
    }
   ],
   "source": [
    "a=int(input(\"enter number\"))\n",
    "if x<=0:\n",
    "    print(\"p\")\n",
    "else:\n",
    "    print(\"n\")    "
   ]
  },
  {
   "cell_type": "code",
   "execution_count": 11,
   "metadata": {},
   "outputs": [
    {
     "name": "stdout",
     "output_type": "stream",
     "text": [
      "success🤢\n"
     ]
    }
   ],
   "source": [
    "username=input(\"enter your number:\")\n",
    "email=input(\"enter your email:\")\n",
    "pwd=input(\"enter your pwd:\")\n",
    "pwd2=input(\"enter your pwd2:\")\n",
    "if len(username)>=4 and len(username)<=15:\n",
    "    if \"@\" in email and email.islower() and len(email)>10:\n",
    "        if len(pwd)>=6 and pwd!=username:\n",
    "            if pwd==pwd2:\n",
    "                print(\"success🤢\")\n",
    "            else:\n",
    "                print(\"password doesn't match\")\n",
    "        else:\n",
    "            print(\"password is invalid\")\n",
    "    else:\n",
    "        print(\"email in invalid\")\n",
    "else:\n",
    "    print(\"username is invalid\")                            \n",
    "\n"
   ]
  },
  {
   "cell_type": "code",
   "execution_count": 17,
   "metadata": {},
   "outputs": [
    {
     "name": "stdout",
     "output_type": "stream",
     "text": [
      "name\n",
      "n e\n"
     ]
    }
   ],
   "source": [
    "name=input(\"enter number\")\n",
    "age=int(input(\"enter Age:\"))\n",
    "print(\"name\")\n",
    "if age>=18:\n",
    "    print(\"e\")\n",
    "else:\n",
    "    print(\"n e\")    \n",
    "\n",
    "                            \n",
    "\n"
   ]
  },
  {
   "cell_type": "code",
   "execution_count": 19,
   "metadata": {},
   "outputs": [
    {
     "name": "stdout",
     "output_type": "stream",
     "text": [
      "xyz\n"
     ]
    }
   ],
   "source": [
    "x=int(input(\"enter number:\"))\n",
    "y=int(input(\"enter number:\"))\n",
    "z=int(input(\"enter number:\"))\n",
    "if x==y==z:\n",
    "    print(\"t\")\n",
    "if x==y or y==z or z==x:\n",
    "    print(\"f\")\n",
    "else:\n",
    "    print(\"xyz\")        \n"
   ]
  }
 ],
 "metadata": {
  "kernelspec": {
   "display_name": "base",
   "language": "python",
   "name": "python3"
  },
  "language_info": {
   "codemirror_mode": {
    "name": "ipython",
    "version": 3
   },
   "file_extension": ".py",
   "mimetype": "text/x-python",
   "name": "python",
   "nbconvert_exporter": "python",
   "pygments_lexer": "ipython3",
   "version": "3.10.10"
  },
  "orig_nbformat": 4
 },
 "nbformat": 4,
 "nbformat_minor": 2
}
